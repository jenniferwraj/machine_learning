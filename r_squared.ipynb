{
 "cells": [
  {
   "cell_type": "markdown",
   "metadata": {},
   "source": [
    "# R Squared"
   ]
  },
  {
   "cell_type": "markdown",
   "metadata": {},
   "source": [
    "R-squared (R²) indicates how well the independent variables explain the variability of the dependent variable.\n",
    "If R² = 0.6, we can say that 'x' explains 60% of the variation in 'y'"
   ]
  },
  {
   "cell_type": "markdown",
   "metadata": {},
   "source": [
    "However, one of its limitations is that it always increases when more variables are added to the model—even if those variables are not meaningful. This can give a false impression of model improvement."
   ]
  },
  {
   "cell_type": "markdown",
   "metadata": {},
   "source": [
    "# Adjusted R Squared"
   ]
  },
  {
   "cell_type": "markdown",
   "metadata": {},
   "source": [
    "Adjusted R-squared, on the other hand, accounts for the number of predictors in the model. It only increases if the new variable improves the model more than would be expected by chance. It can even decrease if the added variable is not helpful.\n",
    "So, adjusted R-squared is especially useful when comparing models with different numbers of predictors, such as during feature selection. It helps avoid overfitting by penalizing unnecessary complexity"
   ]
  },
  {
   "cell_type": "code",
   "execution_count": 1,
   "metadata": {},
   "outputs": [],
   "source": [
    "from sklearn.metrics import r2_score\n",
    "import numpy as np"
   ]
  },
  {
   "cell_type": "code",
   "execution_count": 2,
   "metadata": {},
   "outputs": [
    {
     "name": "stdout",
     "output_type": "stream",
     "text": [
      "R-squared: 0.9830\n",
      "Adjusted R-squared: 0.9660\n"
     ]
    }
   ],
   "source": [
    "# Sample actual and predicted values\n",
    "y_true = np.array([100, 150, 200, 250, 300])\n",
    "y_pred = np.array([110, 140, 195, 260, 310])\n",
    "\n",
    "# Calculate R-squared\n",
    "r_squared = r2_score(y_true, y_pred)\n",
    "\n",
    "# Manually compute Adjusted R-squared\n",
    "n = len(y_true)         # number of observations\n",
    "k = 2                   # number of predictors used in the model (example)\n",
    "adjusted_r_squared = 1 - (1 - r_squared) * (n - 1) / (n - k - 1)\n",
    "\n",
    "print(f\"R-squared: {r_squared:.4f}\")\n",
    "print(f\"Adjusted R-squared: {adjusted_r_squared:.4f}\")\n"
   ]
  },
  {
   "cell_type": "code",
   "execution_count": null,
   "metadata": {},
   "outputs": [],
   "source": []
  }
 ],
 "metadata": {
  "kernelspec": {
   "display_name": "Python 3",
   "language": "python",
   "name": "python3"
  },
  "language_info": {
   "codemirror_mode": {
    "name": "ipython",
    "version": 3
   },
   "file_extension": ".py",
   "mimetype": "text/x-python",
   "name": "python",
   "nbconvert_exporter": "python",
   "pygments_lexer": "ipython3",
   "version": "3.7.3"
  }
 },
 "nbformat": 4,
 "nbformat_minor": 2
}
